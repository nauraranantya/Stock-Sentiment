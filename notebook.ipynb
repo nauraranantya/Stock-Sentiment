{
 "cells": [
  {
   "cell_type": "code",
   "execution_count": null,
   "id": "137f1cdd",
   "metadata": {},
   "outputs": [
    {
     "name": "stdout",
     "output_type": "stream",
     "text": [
      "Searching for 'TSLA' in r/wallstreetbets from 2025-06-12 15:43:29+00:00 to 2025-07-12 15:43:29+00:00\n"
     ]
    },
    {
     "name": "stderr",
     "output_type": "stream",
     "text": [
      "Not all PushShift shards are active. Query results may be incomplete.\n"
     ]
    },
    {
     "name": "stdout",
     "output_type": "stream",
     "text": [
      "Fetched 0 submissions.\n",
      "\n",
      "DataFrame Head:\n",
      "Empty DataFrame\n",
      "Columns: []\n",
      "Index: []\n",
      "\n",
      "Total posts in DataFrame: 0\n",
      "Searching for 'TSLA' in r/None from 2025-06-12 15:43:31+00:00 to 2025-07-12 15:43:31+00:00\n"
     ]
    },
    {
     "name": "stderr",
     "output_type": "stream",
     "text": [
      "Not all PushShift shards are active. Query results may be incomplete.\n"
     ]
    },
    {
     "name": "stdout",
     "output_type": "stream",
     "text": [
      "Fetched 0 submissions.\n",
      "Empty DataFrame\n",
      "Columns: []\n",
      "Index: []\n"
     ]
    }
   ],
   "source": [
    "from src.reddit_scraper import get_reddit_posts\n",
    "\n",
    "df = get_reddit_posts(query=\"Tesla\", subreddit=\"wallstreetbets\", days=30, limit=300)\n",
    "print(df.head())"
   ]
  }
 ],
 "metadata": {
  "kernelspec": {
   "display_name": "venv",
   "language": "python",
   "name": "python3"
  },
  "language_info": {
   "codemirror_mode": {
    "name": "ipython",
    "version": 3
   },
   "file_extension": ".py",
   "mimetype": "text/x-python",
   "name": "python",
   "nbconvert_exporter": "python",
   "pygments_lexer": "ipython3",
   "version": "3.12.10"
  }
 },
 "nbformat": 4,
 "nbformat_minor": 5
}
